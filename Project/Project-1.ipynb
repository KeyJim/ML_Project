{
 "cells": [
  {
   "cell_type": "code",
   "execution_count": 88,
   "metadata": {},
   "outputs": [],
   "source": [
    "import numpy as np\n",
    "import matplotlib.pyplot as plt\n",
    "import pandas as pd\n",
    "from pandas import DataFrame\n",
    "\n",
    "from keras.models import Sequential\n",
    "from keras.layers import Dense\n",
    "from keras.layers import LSTM\n",
    "from keras.layers import Dropout\n"
   ]
  },
  {
   "cell_type": "code",
   "execution_count": 89,
   "metadata": {},
   "outputs": [],
   "source": [
    "dframe = pd.read_excel(\"110ad.xlsx\")"
   ]
  },
  {
   "cell_type": "code",
   "execution_count": 90,
   "metadata": {},
   "outputs": [
    {
     "data": {
      "text/html": [
       "<div>\n",
       "<style scoped>\n",
       "    .dataframe tbody tr th:only-of-type {\n",
       "        vertical-align: middle;\n",
       "    }\n",
       "\n",
       "    .dataframe tbody tr th {\n",
       "        vertical-align: top;\n",
       "    }\n",
       "\n",
       "    .dataframe thead th {\n",
       "        text-align: right;\n",
       "    }\n",
       "</style>\n",
       "<table border=\"1\" class=\"dataframe\">\n",
       "  <thead>\n",
       "    <tr style=\"text-align: right;\">\n",
       "      <th></th>\n",
       "      <th>0</th>\n",
       "      <th>1</th>\n",
       "      <th>2</th>\n",
       "      <th>3</th>\n",
       "      <th>4</th>\n",
       "      <th>5</th>\n",
       "      <th>6</th>\n",
       "      <th>7</th>\n",
       "      <th>8</th>\n",
       "      <th>9</th>\n",
       "      <th>...</th>\n",
       "      <th>292</th>\n",
       "      <th>293</th>\n",
       "      <th>294</th>\n",
       "      <th>295</th>\n",
       "      <th>296</th>\n",
       "      <th>297</th>\n",
       "      <th>298</th>\n",
       "      <th>299</th>\n",
       "      <th>300</th>\n",
       "      <th>301</th>\n",
       "    </tr>\n",
       "  </thead>\n",
       "  <tbody>\n",
       "    <tr>\n",
       "      <th>Activity1</th>\n",
       "      <td>0.000000</td>\n",
       "      <td>0.000000</td>\n",
       "      <td>0.000000</td>\n",
       "      <td>0.000000</td>\n",
       "      <td>0.000788</td>\n",
       "      <td>0.000000</td>\n",
       "      <td>0.000119</td>\n",
       "      <td>0.000434</td>\n",
       "      <td>0.000788</td>\n",
       "      <td>0.000394</td>\n",
       "      <td>...</td>\n",
       "      <td>0.0</td>\n",
       "      <td>0.0</td>\n",
       "      <td>0.00000</td>\n",
       "      <td>0.000000</td>\n",
       "      <td>0.0</td>\n",
       "      <td>0.0</td>\n",
       "      <td>0.0</td>\n",
       "      <td>0.0</td>\n",
       "      <td>0.0</td>\n",
       "      <td>0.0</td>\n",
       "    </tr>\n",
       "    <tr>\n",
       "      <th>Activity2</th>\n",
       "      <td>0.000000</td>\n",
       "      <td>0.000041</td>\n",
       "      <td>0.000041</td>\n",
       "      <td>0.000451</td>\n",
       "      <td>0.000041</td>\n",
       "      <td>0.000000</td>\n",
       "      <td>0.000410</td>\n",
       "      <td>0.000000</td>\n",
       "      <td>0.000000</td>\n",
       "      <td>0.000000</td>\n",
       "      <td>...</td>\n",
       "      <td>0.0</td>\n",
       "      <td>0.0</td>\n",
       "      <td>0.00000</td>\n",
       "      <td>0.000000</td>\n",
       "      <td>0.0</td>\n",
       "      <td>0.0</td>\n",
       "      <td>0.0</td>\n",
       "      <td>0.0</td>\n",
       "      <td>0.0</td>\n",
       "      <td>0.0</td>\n",
       "    </tr>\n",
       "    <tr>\n",
       "      <th>Activity3</th>\n",
       "      <td>0.000079</td>\n",
       "      <td>0.000000</td>\n",
       "      <td>0.000040</td>\n",
       "      <td>0.000395</td>\n",
       "      <td>0.000395</td>\n",
       "      <td>0.000395</td>\n",
       "      <td>0.000789</td>\n",
       "      <td>0.000474</td>\n",
       "      <td>0.000040</td>\n",
       "      <td>0.000395</td>\n",
       "      <td>...</td>\n",
       "      <td>0.0</td>\n",
       "      <td>0.0</td>\n",
       "      <td>0.00004</td>\n",
       "      <td>0.000000</td>\n",
       "      <td>0.0</td>\n",
       "      <td>0.0</td>\n",
       "      <td>0.0</td>\n",
       "      <td>0.0</td>\n",
       "      <td>0.0</td>\n",
       "      <td>0.0</td>\n",
       "    </tr>\n",
       "    <tr>\n",
       "      <th>Activity4</th>\n",
       "      <td>0.000405</td>\n",
       "      <td>0.000041</td>\n",
       "      <td>0.000000</td>\n",
       "      <td>0.000446</td>\n",
       "      <td>0.000041</td>\n",
       "      <td>0.000000</td>\n",
       "      <td>0.000811</td>\n",
       "      <td>0.000811</td>\n",
       "      <td>0.000405</td>\n",
       "      <td>0.000446</td>\n",
       "      <td>...</td>\n",
       "      <td>0.0</td>\n",
       "      <td>0.0</td>\n",
       "      <td>0.00000</td>\n",
       "      <td>0.000000</td>\n",
       "      <td>0.0</td>\n",
       "      <td>0.0</td>\n",
       "      <td>0.0</td>\n",
       "      <td>0.0</td>\n",
       "      <td>0.0</td>\n",
       "      <td>0.0</td>\n",
       "    </tr>\n",
       "    <tr>\n",
       "      <th>Activity5</th>\n",
       "      <td>0.000000</td>\n",
       "      <td>0.000781</td>\n",
       "      <td>0.000391</td>\n",
       "      <td>0.000078</td>\n",
       "      <td>0.000000</td>\n",
       "      <td>0.000781</td>\n",
       "      <td>0.000000</td>\n",
       "      <td>0.000391</td>\n",
       "      <td>0.005940</td>\n",
       "      <td>0.035870</td>\n",
       "      <td>...</td>\n",
       "      <td>0.0</td>\n",
       "      <td>0.0</td>\n",
       "      <td>0.00000</td>\n",
       "      <td>0.000039</td>\n",
       "      <td>0.0</td>\n",
       "      <td>0.0</td>\n",
       "      <td>0.0</td>\n",
       "      <td>0.0</td>\n",
       "      <td>0.0</td>\n",
       "      <td>0.0</td>\n",
       "    </tr>\n",
       "  </tbody>\n",
       "</table>\n",
       "<p>5 rows × 302 columns</p>\n",
       "</div>"
      ],
      "text/plain": [
       "                0         1         2         3         4         5    \\\n",
       "Activity1  0.000000  0.000000  0.000000  0.000000  0.000788  0.000000   \n",
       "Activity2  0.000000  0.000041  0.000041  0.000451  0.000041  0.000000   \n",
       "Activity3  0.000079  0.000000  0.000040  0.000395  0.000395  0.000395   \n",
       "Activity4  0.000405  0.000041  0.000000  0.000446  0.000041  0.000000   \n",
       "Activity5  0.000000  0.000781  0.000391  0.000078  0.000000  0.000781   \n",
       "\n",
       "                6         7         8         9   ...   292  293      294  \\\n",
       "Activity1  0.000119  0.000434  0.000788  0.000394 ...   0.0  0.0  0.00000   \n",
       "Activity2  0.000410  0.000000  0.000000  0.000000 ...   0.0  0.0  0.00000   \n",
       "Activity3  0.000789  0.000474  0.000040  0.000395 ...   0.0  0.0  0.00004   \n",
       "Activity4  0.000811  0.000811  0.000405  0.000446 ...   0.0  0.0  0.00000   \n",
       "Activity5  0.000000  0.000391  0.005940  0.035870 ...   0.0  0.0  0.00000   \n",
       "\n",
       "                295  296  297  298  299  300  301  \n",
       "Activity1  0.000000  0.0  0.0  0.0  0.0  0.0  0.0  \n",
       "Activity2  0.000000  0.0  0.0  0.0  0.0  0.0  0.0  \n",
       "Activity3  0.000000  0.0  0.0  0.0  0.0  0.0  0.0  \n",
       "Activity4  0.000000  0.0  0.0  0.0  0.0  0.0  0.0  \n",
       "Activity5  0.000039  0.0  0.0  0.0  0.0  0.0  0.0  \n",
       "\n",
       "[5 rows x 302 columns]"
      ]
     },
     "execution_count": 90,
     "metadata": {},
     "output_type": "execute_result"
    }
   ],
   "source": [
    "training_set = DataFrame(dframe)\n",
    "training_set = training_set.T\n",
    "training_set.head()\n"
   ]
  },
  {
   "cell_type": "code",
   "execution_count": 91,
   "metadata": {},
   "outputs": [
    {
     "data": {
      "text/plain": [
       "(40, 302)"
      ]
     },
     "execution_count": 91,
     "metadata": {},
     "output_type": "execute_result"
    }
   ],
   "source": [
    "training_set.shape"
   ]
  },
  {
   "cell_type": "code",
   "execution_count": 92,
   "metadata": {},
   "outputs": [],
   "source": [
    "from sklearn.preprocessing import MinMaxScaler\n",
    "sc = MinMaxScaler(feature_range = (0, 1))\n",
    "training_set= sc.fit_transform(training_set)"
   ]
  },
  {
   "cell_type": "code",
   "execution_count": 93,
   "metadata": {},
   "outputs": [],
   "source": [
    "X_train = training_set[0:20,:]\n",
    "y_train = training_set[20:,:]"
   ]
  },
  {
   "cell_type": "code",
   "execution_count": 94,
   "metadata": {
    "scrolled": true
   },
   "outputs": [
    {
     "data": {
      "text/plain": [
       "array([0.00000000e+00, 0.00000000e+00, 0.00000000e+00, 0.00000000e+00,\n",
       "       4.22861205e-03, 0.00000000e+00, 6.34808875e-04, 2.31535505e-03,\n",
       "       4.19351423e-03, 1.99820505e-03, 0.00000000e+00, 0.00000000e+00,\n",
       "       1.15425576e-03, 1.13671003e-03, 3.84724993e-03, 5.62001650e-02,\n",
       "       2.96384993e-01, 5.32033948e-01, 4.92192564e-01, 3.94731188e-01,\n",
       "       1.74301855e-01, 2.80128879e-01, 5.15720841e-01, 9.14712666e-01,\n",
       "       9.17411015e-01, 8.78196736e-01, 9.89705051e-01, 9.95003220e-01,\n",
       "       9.60228302e-01, 9.35820375e-01, 9.33849992e-01, 8.90354795e-01,\n",
       "       6.57010631e-01, 5.76062920e-01, 6.65758788e-01, 7.16196105e-01,\n",
       "       9.12161578e-01, 8.31189166e-01, 8.48622872e-01, 8.63661017e-01,\n",
       "       9.26256205e-01, 8.59000000e-01, 9.07596052e-01, 8.74524715e-01,\n",
       "       8.22662407e-01, 9.11912903e-01, 8.83626302e-01, 8.25871096e-01,\n",
       "       9.04386385e-01, 8.21705597e-01, 8.92734913e-01, 8.39699409e-01,\n",
       "       8.46318917e-01, 8.29446193e-01, 7.25439526e-01, 7.81856002e-01,\n",
       "       7.76273300e-01, 7.93691191e-01, 7.70930206e-01, 7.37481032e-01,\n",
       "       6.93768036e-01, 6.83511500e-01, 7.74207787e-01, 6.83965506e-01,\n",
       "       6.98891967e-01, 6.75657031e-01, 7.07898092e-01, 7.51412019e-01,\n",
       "       7.62823700e-01, 6.66108247e-01, 6.96063637e-01, 7.17025409e-01,\n",
       "       7.75305623e-01, 7.16812026e-01, 7.55603595e-01, 8.19280469e-01,\n",
       "       8.04036673e-01, 7.42274325e-01, 8.34764426e-01, 8.23275478e-01,\n",
       "       8.62108113e-01, 7.68522874e-01, 6.94044846e-01, 6.58580916e-01,\n",
       "       6.66280378e-01, 6.06940837e-01, 6.06477496e-01, 7.14425189e-01,\n",
       "       6.82391075e-01, 7.48613709e-01, 8.10381731e-01, 8.52784760e-01,\n",
       "       9.16338498e-01, 9.84801224e-01, 1.00000000e+00, 8.96044567e-01,\n",
       "       8.35688386e-01, 7.49728600e-01, 5.43710235e-01, 3.81758324e-01,\n",
       "       2.03806535e-01, 1.14123796e-01, 4.61571468e-02, 1.02336107e-02,\n",
       "       5.03448648e-03, 2.06685544e-03, 2.91521589e-03, 3.93767956e-04,\n",
       "       5.88132841e-04, 3.04999536e-03, 3.79905043e-03, 0.00000000e+00,\n",
       "       6.00550285e-03, 1.15956734e-02, 6.68275763e-02, 4.02148138e-02,\n",
       "       8.59820983e-01, 2.50892439e-01, 9.66633129e-01, 4.46156689e-01,\n",
       "       7.75701878e-01, 8.30933987e-01, 5.12041542e-01, 4.08949009e-01,\n",
       "       6.34825831e-01, 2.75000664e-01, 6.20741471e-01, 3.73638783e-01,\n",
       "       9.01313225e-01, 2.75092265e-01, 8.15893020e-03, 3.67263356e-01,\n",
       "       4.94103751e-01, 3.98692810e-01, 7.73649370e-01, 6.21851742e-01,\n",
       "       5.10785666e-01, 2.82475053e-01, 2.15819343e-01, 0.00000000e+00,\n",
       "       3.99880193e-01, 1.98230539e-01, 5.34287783e-01, 9.53102904e-01,\n",
       "       5.31379201e-01, 5.02361146e-01, 0.00000000e+00, 5.96969697e-01,\n",
       "       3.27985796e-01, 1.55930886e-02, 1.47277700e-02, 2.89607349e-01,\n",
       "       5.41284404e-01, 2.80593898e-01, 6.67156010e-01, 1.38580152e-01,\n",
       "       7.75157173e-02, 5.70860104e-01, 7.94258373e-01, 9.44998760e-01,\n",
       "       7.43034056e-01, 1.95070567e-01, 3.87643989e-01, 1.88859950e-01,\n",
       "       9.29711475e-01, 3.09086667e-01, 3.05448368e-01, 4.12576988e-01,\n",
       "       5.55516481e-01, 1.88557895e-01, 1.90379710e-01, 1.67219509e-01,\n",
       "       9.38095238e-01, 8.14070352e-01, 3.31200397e-01, 1.86770616e-01,\n",
       "       5.01667879e-01, 2.47809143e-01, 5.81280788e-01, 7.59615385e-01,\n",
       "       1.86770616e-01, 1.11600298e-01, 7.19512195e-01, 3.92124876e-01,\n",
       "       9.29133858e-01, 3.35122267e-01, 3.79702752e-01, 6.29482072e-01,\n",
       "       5.31645570e-01, 4.34344813e-01, 4.05760784e-01, 1.00000000e+00,\n",
       "       5.81280788e-01, 1.86770616e-01, 2.35979641e-01, 0.00000000e+00,\n",
       "       2.40296341e-01, 1.84955607e-02, 2.69357764e-01, 3.03143077e-01,\n",
       "       9.71563981e-01, 1.00000000e+00, 9.68253968e-01, 1.36896370e-01,\n",
       "       2.80027811e-01, 1.79944398e-01, 3.75170142e-02, 3.24430328e-02,\n",
       "       0.00000000e+00, 5.98984772e-01, 9.85576923e-01, 3.80758937e-01,\n",
       "       4.95659880e-01, 4.00086802e-01, 4.47433514e-01, 2.29119767e-01,\n",
       "       2.56607101e-01, 0.00000000e+00, 6.38394355e-02, 4.95659880e-01,\n",
       "       0.00000000e+00, 6.15758594e-01, 9.75206612e-01, 0.00000000e+00,\n",
       "       3.99880193e-01, 2.12581373e-01, 6.51773228e-01, 0.00000000e+00,\n",
       "       4.39767264e-01, 0.00000000e+00, 7.15151515e-01, 3.19197581e-02,\n",
       "       1.91303883e-01, 3.07879687e-01, 0.00000000e+00, 6.40789431e-01,\n",
       "       8.77697842e-01, 2.13628571e-01, 9.71905928e-01, 6.33165829e-01,\n",
       "       3.17811290e-01, 3.49730645e-01, 1.00000000e+00, 0.00000000e+00,\n",
       "       3.07879687e-01, 4.77679394e-01, 2.20159777e-01, 0.00000000e+00,\n",
       "       6.46041803e-01, 2.55097647e-01, 1.92138350e-02, 4.55483331e-01,\n",
       "       1.00000000e+00, 9.98874120e-01, 6.46041803e-01, 3.67513559e-01,\n",
       "       4.95809812e-01, 0.00000000e+00, 0.00000000e+00, 1.00000000e+00,\n",
       "       0.00000000e+00, 4.72101760e-01, 0.00000000e+00, 3.28405000e-01,\n",
       "       3.20395122e-01, 4.99921611e-01, 0.00000000e+00, 0.00000000e+00,\n",
       "       0.00000000e+00, 0.00000000e+00, 3.55463934e-01, 4.79189190e-02,\n",
       "       5.06474163e-02, 0.00000000e+00, 0.00000000e+00, 0.00000000e+00,\n",
       "       4.79189190e-02, 0.00000000e+00, 4.95809812e-01, 0.00000000e+00,\n",
       "       9.58379541e-02, 0.00000000e+00, 0.00000000e+00, 0.00000000e+00,\n",
       "       0.00000000e+00, 0.00000000e+00, 9.53644596e-01, 9.89475395e-02,\n",
       "       0.00000000e+00, 0.00000000e+00, 0.00000000e+00, 0.00000000e+00,\n",
       "       0.00000000e+00, 0.00000000e+00, 0.00000000e+00, 0.00000000e+00,\n",
       "       0.00000000e+00, 0.00000000e+00, 0.00000000e+00, 0.00000000e+00,\n",
       "       0.00000000e+00, 0.00000000e+00])"
      ]
     },
     "execution_count": 94,
     "metadata": {},
     "output_type": "execute_result"
    }
   ],
   "source": [
    "X_train[0,:]\n",
    "#X_train.shape\n",
    "#y_train"
   ]
  },
  {
   "cell_type": "code",
   "execution_count": 64,
   "metadata": {},
   "outputs": [],
   "source": [
    "# Reshaping\n",
    "X_train = np.reshape(X_train, (X_train.shape[0], X_train.shape[1], 1)) # LSTM 输入(1975,60,1) 每次输入60个 输入1975次"
   ]
  },
  {
   "cell_type": "code",
   "execution_count": 65,
   "metadata": {},
   "outputs": [
    {
     "data": {
      "text/plain": [
       "(20, 302, 1)"
      ]
     },
     "execution_count": 65,
     "metadata": {},
     "output_type": "execute_result"
    }
   ],
   "source": [
    "X_train.shape"
   ]
  },
  {
   "cell_type": "code",
   "execution_count": 72,
   "metadata": {},
   "outputs": [],
   "source": [
    "# Initialising the RNN\n",
    "regressor = Sequential()\n",
    "\n",
    "# Adding the first LSTM layer and some Dropout regularisation\n",
    "regressor.add(LSTM(units = 200, return_sequences = True, input_shape = (X_train.shape[1], 1))) # \n",
    "regressor.add(Dropout(0.2))\n",
    "\n",
    "# Adding a second LSTM layer and some Dropout regularisation\n",
    "regressor.add(LSTM(units = 200, return_sequences = True))\n",
    "regressor.add(Dropout(0.2))  # \n",
    "\n",
    "# Adding a third LSTM layer and some Dropout regularisation\n",
    "regressor.add(LSTM(units = 200, return_sequences = True))\n",
    "regressor.add(Dropout(0.2))\n",
    "\n",
    "# Adding a fourth LSTM layer and some Dropout regularisation\n",
    "regressor.add(LSTM(units = 200))\n",
    "regressor.add(Dropout(0.2))\n",
    "\n"
   ]
  },
  {
   "cell_type": "code",
   "execution_count": 73,
   "metadata": {
    "scrolled": true
   },
   "outputs": [
    {
     "name": "stdout",
     "output_type": "stream",
     "text": [
      "Epoch 1/100\n",
      "20/20 [==============================] - 4s 213ms/step - loss: 0.0778\n",
      "Epoch 2/100\n",
      "20/20 [==============================] - 1s 63ms/step - loss: 0.0767\n",
      "Epoch 3/100\n",
      "20/20 [==============================] - 1s 67ms/step - loss: 0.0752\n",
      "Epoch 4/100\n",
      "20/20 [==============================] - 1s 61ms/step - loss: 0.0714\n",
      "Epoch 5/100\n",
      "20/20 [==============================] - 1s 63ms/step - loss: 0.0623\n",
      "Epoch 6/100\n",
      "20/20 [==============================] - 1s 65ms/step - loss: 0.0498\n",
      "Epoch 7/100\n",
      "20/20 [==============================] - 1s 61ms/step - loss: 0.0477\n",
      "Epoch 8/100\n",
      "20/20 [==============================] - 1s 59ms/step - loss: 0.0368\n",
      "Epoch 9/100\n",
      "20/20 [==============================] - 1s 60ms/step - loss: 0.0347\n",
      "Epoch 10/100\n",
      "20/20 [==============================] - 1s 61ms/step - loss: 0.0312\n",
      "Epoch 11/100\n",
      "20/20 [==============================] - 1s 60ms/step - loss: 0.0268\n",
      "Epoch 12/100\n",
      "20/20 [==============================] - 1s 59ms/step - loss: 0.0259\n",
      "Epoch 13/100\n",
      "20/20 [==============================] - 1s 71ms/step - loss: 0.0245\n",
      "Epoch 14/100\n",
      "20/20 [==============================] - 1s 67ms/step - loss: 0.0214\n",
      "Epoch 15/100\n",
      "20/20 [==============================] - 1s 72ms/step - loss: 0.0210\n",
      "Epoch 16/100\n",
      "20/20 [==============================] - 2s 81ms/step - loss: 0.0197\n",
      "Epoch 17/100\n",
      "20/20 [==============================] - 2s 77ms/step - loss: 0.0198\n",
      "Epoch 18/100\n",
      "20/20 [==============================] - 1s 74ms/step - loss: 0.0193\n",
      "Epoch 19/100\n",
      "20/20 [==============================] - 2s 76ms/step - loss: 0.0178\n",
      "Epoch 20/100\n",
      "20/20 [==============================] - 2s 75ms/step - loss: 0.0177\n",
      "Epoch 21/100\n",
      "20/20 [==============================] - 2s 75ms/step - loss: 0.0175\n",
      "Epoch 22/100\n",
      "20/20 [==============================] - 2s 82ms/step - loss: 0.0169\n",
      "Epoch 23/100\n",
      "20/20 [==============================] - 2s 81ms/step - loss: 0.0154\n",
      "Epoch 24/100\n",
      "20/20 [==============================] - 2s 76ms/step - loss: 0.0161\n",
      "Epoch 25/100\n",
      "20/20 [==============================] - 1s 74ms/step - loss: 0.0154\n",
      "Epoch 26/100\n",
      "20/20 [==============================] - 2s 76ms/step - loss: 0.0150\n",
      "Epoch 27/100\n",
      "20/20 [==============================] - 2s 75ms/step - loss: 0.0144\n",
      "Epoch 28/100\n",
      "20/20 [==============================] - 1s 75ms/step - loss: 0.0148\n",
      "Epoch 29/100\n",
      "20/20 [==============================] - 2s 75ms/step - loss: 0.0146\n",
      "Epoch 30/100\n",
      "20/20 [==============================] - 2s 76ms/step - loss: 0.0144\n",
      "Epoch 31/100\n",
      "20/20 [==============================] - 2s 77ms/step - loss: 0.0138\n",
      "Epoch 32/100\n",
      "20/20 [==============================] - 2s 78ms/step - loss: 0.0137\n",
      "Epoch 33/100\n",
      "20/20 [==============================] - 1s 59ms/step - loss: 0.0140\n",
      "Epoch 34/100\n",
      "20/20 [==============================] - 1s 62ms/step - loss: 0.0135\n",
      "Epoch 35/100\n",
      "20/20 [==============================] - 1s 64ms/step - loss: 0.0134\n",
      "Epoch 36/100\n",
      "20/20 [==============================] - 1s 62ms/step - loss: 0.0135\n",
      "Epoch 37/100\n",
      "20/20 [==============================] - 1s 61ms/step - loss: 0.0133\n",
      "Epoch 38/100\n",
      "20/20 [==============================] - 2s 77ms/step - loss: 0.0133\n",
      "Epoch 39/100\n",
      "20/20 [==============================] - 1s 69ms/step - loss: 0.0132\n",
      "Epoch 40/100\n",
      "20/20 [==============================] - 1s 60ms/step - loss: 0.0129\n",
      "Epoch 41/100\n",
      "20/20 [==============================] - 1s 62ms/step - loss: 0.0131\n",
      "Epoch 42/100\n",
      "20/20 [==============================] - 1s 59ms/step - loss: 0.0130\n",
      "Epoch 43/100\n",
      "20/20 [==============================] - 1s 62ms/step - loss: 0.0125\n",
      "Epoch 44/100\n",
      "20/20 [==============================] - 1s 63ms/step - loss: 0.0126\n",
      "Epoch 45/100\n",
      "20/20 [==============================] - 1s 71ms/step - loss: 0.0126\n",
      "Epoch 46/100\n",
      "20/20 [==============================] - 1s 74ms/step - loss: 0.0122\n",
      "Epoch 47/100\n",
      "20/20 [==============================] - 1s 63ms/step - loss: 0.0123\n",
      "Epoch 48/100\n",
      "20/20 [==============================] - 1s 60ms/step - loss: 0.0123\n",
      "Epoch 49/100\n",
      "20/20 [==============================] - 1s 63ms/step - loss: 0.0127\n",
      "Epoch 50/100\n",
      "20/20 [==============================] - 1s 66ms/step - loss: 0.0123\n",
      "Epoch 51/100\n",
      "20/20 [==============================] - 1s 62ms/step - loss: 0.0131\n",
      "Epoch 52/100\n",
      "20/20 [==============================] - 1s 62ms/step - loss: 0.0122\n",
      "Epoch 53/100\n",
      "20/20 [==============================] - 1s 62ms/step - loss: 0.0124\n",
      "Epoch 54/100\n",
      "20/20 [==============================] - 1s 70ms/step - loss: 0.0120\n",
      "Epoch 55/100\n",
      "20/20 [==============================] - 2s 86ms/step - loss: 0.0123\n",
      "Epoch 56/100\n",
      "20/20 [==============================] - 1s 67ms/step - loss: 0.0122\n",
      "Epoch 57/100\n",
      "20/20 [==============================] - 2s 78ms/step - loss: 0.0118\n",
      "Epoch 58/100\n",
      "20/20 [==============================] - 2s 80ms/step - loss: 0.0120\n",
      "Epoch 59/100\n",
      "20/20 [==============================] - 1s 66ms/step - loss: 0.0121\n",
      "Epoch 60/100\n",
      "20/20 [==============================] - 1s 71ms/step - loss: 0.0119\n",
      "Epoch 61/100\n",
      "20/20 [==============================] - 1s 61ms/step - loss: 0.0118\n",
      "Epoch 62/100\n",
      "20/20 [==============================] - 1s 68ms/step - loss: 0.0118\n",
      "Epoch 63/100\n",
      "20/20 [==============================] - 1s 73ms/step - loss: 0.0118\n",
      "Epoch 64/100\n",
      "20/20 [==============================] - 2s 78ms/step - loss: 0.0120\n",
      "Epoch 65/100\n",
      "20/20 [==============================] - 1s 69ms/step - loss: 0.0118\n",
      "Epoch 66/100\n",
      "20/20 [==============================] - 1s 74ms/step - loss: 0.0117\n",
      "Epoch 67/100\n",
      "20/20 [==============================] - 2s 78ms/step - loss: 0.0115\n",
      "Epoch 68/100\n",
      "20/20 [==============================] - 1s 71ms/step - loss: 0.0118\n",
      "Epoch 69/100\n",
      "20/20 [==============================] - 1s 66ms/step - loss: 0.0117\n",
      "Epoch 70/100\n",
      "20/20 [==============================] - 1s 64ms/step - loss: 0.0116\n",
      "Epoch 71/100\n",
      "20/20 [==============================] - 1s 71ms/step - loss: 0.0115\n",
      "Epoch 72/100\n",
      "20/20 [==============================] - 1s 66ms/step - loss: 0.0116\n",
      "Epoch 73/100\n",
      "20/20 [==============================] - 1s 67ms/step - loss: 0.0116\n",
      "Epoch 74/100\n",
      "20/20 [==============================] - 1s 67ms/step - loss: 0.0114\n",
      "Epoch 75/100\n",
      "20/20 [==============================] - 1s 72ms/step - loss: 0.0117\n",
      "Epoch 76/100\n",
      "20/20 [==============================] - 1s 64ms/step - loss: 0.0117\n",
      "Epoch 77/100\n",
      "20/20 [==============================] - 1s 65ms/step - loss: 0.0115\n",
      "Epoch 78/100\n",
      "20/20 [==============================] - 1s 68ms/step - loss: 0.0116\n",
      "Epoch 79/100\n",
      "20/20 [==============================] - 1s 68ms/step - loss: 0.0115\n",
      "Epoch 80/100\n",
      "20/20 [==============================] - 1s 68ms/step - loss: 0.0115\n",
      "Epoch 81/100\n",
      "20/20 [==============================] - 2s 81ms/step - loss: 0.0117\n",
      "Epoch 82/100\n",
      "20/20 [==============================] - 2s 75ms/step - loss: 0.0116\n",
      "Epoch 83/100\n",
      "20/20 [==============================] - 1s 66ms/step - loss: 0.0113\n",
      "Epoch 84/100\n",
      "20/20 [==============================] - 1s 64ms/step - loss: 0.0114\n",
      "Epoch 85/100\n",
      "20/20 [==============================] - 1s 63ms/step - loss: 0.0115\n",
      "Epoch 86/100\n",
      "20/20 [==============================] - 1s 68ms/step - loss: 0.0115\n",
      "Epoch 87/100\n",
      "20/20 [==============================] - 1s 69ms/step - loss: 0.0113\n",
      "Epoch 88/100\n",
      "20/20 [==============================] - 2s 79ms/step - loss: 0.0113\n",
      "Epoch 89/100\n",
      "20/20 [==============================] - 2s 81ms/step - loss: 0.0111\n",
      "Epoch 90/100\n",
      "20/20 [==============================] - 1s 74ms/step - loss: 0.0114\n",
      "Epoch 91/100\n",
      "20/20 [==============================] - 2s 79ms/step - loss: 0.0116\n",
      "Epoch 92/100\n",
      "20/20 [==============================] - 1s 72ms/step - loss: 0.0112\n",
      "Epoch 93/100\n",
      "20/20 [==============================] - 2s 91ms/step - loss: 0.0116\n",
      "Epoch 94/100\n",
      "20/20 [==============================] - 2s 80ms/step - loss: 0.0110\n",
      "Epoch 95/100\n",
      "20/20 [==============================] - 1s 63ms/step - loss: 0.0116\n",
      "Epoch 96/100\n",
      "20/20 [==============================] - 1s 60ms/step - loss: 0.0114\n",
      "Epoch 97/100\n",
      "20/20 [==============================] - 1s 63ms/step - loss: 0.0115\n",
      "Epoch 98/100\n",
      "20/20 [==============================] - 1s 65ms/step - loss: 0.0112\n",
      "Epoch 99/100\n",
      "20/20 [==============================] - 1s 62ms/step - loss: 0.0115\n",
      "Epoch 100/100\n",
      "20/20 [==============================] - 1s 69ms/step - loss: 0.0113\n"
     ]
    },
    {
     "data": {
      "text/plain": [
       "<keras.callbacks.History at 0x1a3925d630>"
      ]
     },
     "execution_count": 73,
     "metadata": {},
     "output_type": "execute_result"
    }
   ],
   "source": [
    "# Adding the output layer\n",
    "regressor.add(Dense(units = 302))# 指定1个单元的输出作为全连接层（Dense layer\n",
    "\n",
    "# Compiling the RNN\n",
    "regressor.compile(optimizer = 'adam', loss = 'mean_squared_error') # adam优化器编译模型，并用均方误差（mean_squarred_error）来计算误差\n",
    "\n",
    "# Fitting the RNN to the Training set\n",
    "regressor.fit(X_train, y_train, epochs = 100, batch_size = 20)"
   ]
  },
  {
   "cell_type": "code",
   "execution_count": 118,
   "metadata": {
    "scrolled": true
   },
   "outputs": [
    {
     "name": "stdout",
     "output_type": "stream",
     "text": [
      "_________________________________________________________________\n",
      "Layer (type)                 Output Shape              Param #   \n",
      "=================================================================\n",
      "lstm_13 (LSTM)               (None, 302, 200)          161600    \n",
      "_________________________________________________________________\n",
      "dropout_13 (Dropout)         (None, 302, 200)          0         \n",
      "_________________________________________________________________\n",
      "lstm_14 (LSTM)               (None, 302, 200)          320800    \n",
      "_________________________________________________________________\n",
      "dropout_14 (Dropout)         (None, 302, 200)          0         \n",
      "_________________________________________________________________\n",
      "lstm_15 (LSTM)               (None, 302, 200)          320800    \n",
      "_________________________________________________________________\n",
      "dropout_15 (Dropout)         (None, 302, 200)          0         \n",
      "_________________________________________________________________\n",
      "lstm_16 (LSTM)               (None, 200)               320800    \n",
      "_________________________________________________________________\n",
      "dropout_16 (Dropout)         (None, 200)               0         \n",
      "_________________________________________________________________\n",
      "dense_7 (Dense)              (None, 302)               60702     \n",
      "=================================================================\n",
      "Total params: 1,184,702\n",
      "Trainable params: 1,184,702\n",
      "Non-trainable params: 0\n",
      "_________________________________________________________________\n"
     ]
    }
   ],
   "source": [
    "regressor.summary()"
   ]
  },
  {
   "cell_type": "code",
   "execution_count": 104,
   "metadata": {},
   "outputs": [],
   "source": [
    "dframe2 = pd.read_excel(\"114ad.xlsx\")"
   ]
  },
  {
   "cell_type": "code",
   "execution_count": 105,
   "metadata": {},
   "outputs": [],
   "source": [
    "test_set = DataFrame(dframe2)\n",
    "test_set = test_set.T\n",
    "#test_set.head()\n"
   ]
  },
  {
   "cell_type": "code",
   "execution_count": 107,
   "metadata": {},
   "outputs": [],
   "source": [
    "test_set = np.array(test_set)"
   ]
  },
  {
   "cell_type": "code",
   "execution_count": 108,
   "metadata": {},
   "outputs": [],
   "source": [
    "X_test = test_set[0,:]\n",
    "Y_test = test_set[1,:]"
   ]
  },
  {
   "cell_type": "code",
   "execution_count": 114,
   "metadata": {},
   "outputs": [
    {
     "data": {
      "text/plain": [
       "(302,)"
      ]
     },
     "execution_count": 114,
     "metadata": {},
     "output_type": "execute_result"
    }
   ],
   "source": [
    "X_test = np.array(X_test)\n",
    "X_test.shape\n",
    "#Y_test.shape\n",
    "#Y_test[10,]"
   ]
  },
  {
   "cell_type": "code",
   "execution_count": 120,
   "metadata": {},
   "outputs": [
    {
     "data": {
      "text/plain": [
       "(1, 302, 1)"
      ]
     },
     "execution_count": 120,
     "metadata": {},
     "output_type": "execute_result"
    }
   ],
   "source": [
    "X_test = np.reshape(X_test, (1, X_test.shape[0], 1))\n",
    "\n",
    "X_test.shape"
   ]
  },
  {
   "cell_type": "code",
   "execution_count": 121,
   "metadata": {},
   "outputs": [],
   "source": [
    "predicted_test = regressor.predict(X_test)\n",
    "predicted_test = sc.inverse_transform(predicted_test)"
   ]
  },
  {
   "cell_type": "code",
   "execution_count": 130,
   "metadata": {},
   "outputs": [],
   "source": [
    "predicted_test = predicted_test.reshape(302,)"
   ]
  },
  {
   "cell_type": "code",
   "execution_count": 131,
   "metadata": {},
   "outputs": [
    {
     "data": {
      "image/png": "[encoded data removed]",
      "text/plain": [
       "<Figure size 432x288 with 1 Axes>"
      ]
     },
     "metadata": {
      "needs_background": "light"
     },
     "output_type": "display_data"
    }
   ],
   "source": [
    "plt.plot(Y_test, color = 'red', label = 'Real ')\n",
    "plt.plot(predicted_test, color = 'blue', label = 'Predicted ')\n",
    "plt.title(' Prediction')\n",
    "plt.xlabel('Time')\n",
    "plt.ylabel('dose')\n",
    "plt.legend()\n",
    "plt.show()"
   ]
  },
  {
   "cell_type": "code",
   "execution_count": null,
   "metadata": {},
   "outputs": [],
   "source": []
  }
 ],
 "metadata": {
  "kernelspec": {
   "display_name": "Python 3",
   "language": "python",
   "name": "python3"
  },
  "language_info": {
   "codemirror_mode": {
    "name": "ipython",
    "version": 3
   },
   "file_extension": ".py",
   "mimetype": "text/x-python",
   "name": "python",
   "nbconvert_exporter": "python",
   "pygments_lexer": "ipython3",
   "version": "3.6.7"
  }
 },
 "nbformat": 4,
 "nbformat_minor": 2
}
