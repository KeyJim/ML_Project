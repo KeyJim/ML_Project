{
 "cells": [
  {
   "cell_type": "code",
   "execution_count": 8,
   "metadata": {},
   "outputs": [],
   "source": [
    "import tensorflow as tf\n",
    "import keras\n",
    "from keras.models import Sequential\n",
    "from keras.layers import Dense, Dropout, Activation\n",
    "from keras.optimizers import SGD\n",
    "from keras.utils import np_utils\n",
    "import numpy as np\n",
    "import pandas as pd\n",
    "import matplotlib.pyplot as plt\n",
    "from pandas import DataFrame"
   ]
  },
  {
   "cell_type": "code",
   "execution_count": 9,
   "metadata": {},
   "outputs": [],
   "source": [
    "dframe = pd.read_excel(\"test.xlsx\")\n",
    "test = DataFrame(dframe)\n",
    "test=test.T\n",
    "X = test.iloc[ : , :-1].values \n",
    "Y = test.iloc[ : , 302].values \n",
    "\n",
    "from sklearn.model_selection import train_test_split\n",
    "x_train, x_test, y_train, y_test = train_test_split(X, Y, test_size=0.30, random_state=30)\n"
   ]
  },
  {
   "cell_type": "code",
   "execution_count": 10,
   "metadata": {},
   "outputs": [],
   "source": [
    "y_train = np_utils.to_categorical(y_train)\n",
    "y_test = np_utils.to_categorical(y_test)\n",
    "num_classes = y_test.shape[1]"
   ]
  },
  {
   "cell_type": "code",
   "execution_count": 12,
   "metadata": {},
   "outputs": [
    {
     "data": {
      "text/plain": [
       "5"
      ]
     },
     "execution_count": 12,
     "metadata": {},
     "output_type": "execute_result"
    }
   ],
   "source": [
    "num_classes\n",
    "#y_test"
   ]
  },
  {
   "cell_type": "code",
   "execution_count": 14,
   "metadata": {},
   "outputs": [
    {
     "name": "stdout",
     "output_type": "stream",
     "text": [
      "Epoch 1/50\n",
      "70/70 [==============================] - 0s 3ms/step - loss: 0.4991 - acc: 0.8000\n",
      "Epoch 2/50\n",
      "70/70 [==============================] - 0s 102us/step - loss: 0.4849 - acc: 0.8000\n",
      "Epoch 3/50\n",
      "70/70 [==============================] - 0s 173us/step - loss: 0.4803 - acc: 0.8000\n",
      "Epoch 4/50\n",
      "70/70 [==============================] - 0s 189us/step - loss: 0.4747 - acc: 0.8000\n",
      "Epoch 5/50\n",
      "70/70 [==============================] - 0s 142us/step - loss: 0.4679 - acc: 0.8000\n",
      "Epoch 6/50\n",
      "70/70 [==============================] - 0s 150us/step - loss: 0.4620 - acc: 0.8000\n",
      "Epoch 7/50\n",
      "70/70 [==============================] - 0s 129us/step - loss: 0.4569 - acc: 0.8000\n",
      "Epoch 8/50\n",
      "70/70 [==============================] - 0s 99us/step - loss: 0.4530 - acc: 0.8000\n",
      "Epoch 9/50\n",
      "70/70 [==============================] - 0s 160us/step - loss: 0.4479 - acc: 0.8000\n",
      "Epoch 10/50\n",
      "70/70 [==============================] - 0s 167us/step - loss: 0.4425 - acc: 0.8000\n",
      "Epoch 11/50\n",
      "70/70 [==============================] - 0s 224us/step - loss: 0.4387 - acc: 0.8000\n",
      "Epoch 12/50\n",
      "70/70 [==============================] - 0s 163us/step - loss: 0.4345 - acc: 0.8000\n",
      "Epoch 13/50\n",
      "70/70 [==============================] - 0s 101us/step - loss: 0.4298 - acc: 0.8000\n",
      "Epoch 14/50\n",
      "70/70 [==============================] - 0s 164us/step - loss: 0.4237 - acc: 0.8057\n",
      "Epoch 15/50\n",
      "70/70 [==============================] - 0s 136us/step - loss: 0.4192 - acc: 0.8086\n",
      "Epoch 16/50\n",
      "70/70 [==============================] - 0s 164us/step - loss: 0.4148 - acc: 0.8086\n",
      "Epoch 17/50\n",
      "70/70 [==============================] - 0s 146us/step - loss: 0.4106 - acc: 0.8114\n",
      "Epoch 18/50\n",
      "70/70 [==============================] - 0s 222us/step - loss: 0.4061 - acc: 0.8143\n",
      "Epoch 19/50\n",
      "70/70 [==============================] - 0s 138us/step - loss: 0.4006 - acc: 0.8200\n",
      "Epoch 20/50\n",
      "70/70 [==============================] - 0s 127us/step - loss: 0.3966 - acc: 0.8171\n",
      "Epoch 21/50\n",
      "70/70 [==============================] - 0s 132us/step - loss: 0.3929 - acc: 0.8143\n",
      "Epoch 22/50\n",
      "70/70 [==============================] - 0s 89us/step - loss: 0.3865 - acc: 0.8200\n",
      "Epoch 23/50\n",
      "70/70 [==============================] - 0s 90us/step - loss: 0.3819 - acc: 0.8257\n",
      "Epoch 24/50\n",
      "70/70 [==============================] - 0s 159us/step - loss: 0.3806 - acc: 0.8429\n",
      "Epoch 25/50\n",
      "70/70 [==============================] - 0s 117us/step - loss: 0.3736 - acc: 0.8429\n",
      "Epoch 26/50\n",
      "70/70 [==============================] - 0s 103us/step - loss: 0.3675 - acc: 0.8486\n",
      "Epoch 27/50\n",
      "70/70 [==============================] - 0s 86us/step - loss: 0.3622 - acc: 0.8429\n",
      "Epoch 28/50\n",
      "70/70 [==============================] - 0s 128us/step - loss: 0.3579 - acc: 0.8457\n",
      "Epoch 29/50\n",
      "70/70 [==============================] - 0s 121us/step - loss: 0.3538 - acc: 0.8514\n",
      "Epoch 30/50\n",
      "70/70 [==============================] - 0s 127us/step - loss: 0.3488 - acc: 0.8514\n",
      "Epoch 31/50\n",
      "70/70 [==============================] - 0s 171us/step - loss: 0.3454 - acc: 0.8543\n",
      "Epoch 32/50\n",
      "70/70 [==============================] - 0s 89us/step - loss: 0.3394 - acc: 0.8571\n",
      "Epoch 33/50\n",
      "70/70 [==============================] - 0s 93us/step - loss: 0.3371 - acc: 0.8600\n",
      "Epoch 34/50\n",
      "70/70 [==============================] - 0s 115us/step - loss: 0.3319 - acc: 0.8629\n",
      "Epoch 35/50\n",
      "70/70 [==============================] - 0s 139us/step - loss: 0.3278 - acc: 0.8514\n",
      "Epoch 36/50\n",
      "70/70 [==============================] - 0s 116us/step - loss: 0.3237 - acc: 0.8571\n",
      "Epoch 37/50\n",
      "70/70 [==============================] - 0s 193us/step - loss: 0.3207 - acc: 0.8571\n",
      "Epoch 38/50\n",
      "70/70 [==============================] - 0s 101us/step - loss: 0.3156 - acc: 0.8571\n",
      "Epoch 39/50\n",
      "70/70 [==============================] - 0s 105us/step - loss: 0.3119 - acc: 0.8629\n",
      "Epoch 40/50\n",
      "70/70 [==============================] - 0s 130us/step - loss: 0.3080 - acc: 0.8600\n",
      "Epoch 41/50\n",
      "70/70 [==============================] - 0s 174us/step - loss: 0.3040 - acc: 0.8629\n",
      "Epoch 42/50\n",
      "70/70 [==============================] - 0s 103us/step - loss: 0.3010 - acc: 0.8629\n",
      "Epoch 43/50\n",
      "70/70 [==============================] - 0s 108us/step - loss: 0.2959 - acc: 0.8629\n",
      "Epoch 44/50\n",
      "70/70 [==============================] - 0s 139us/step - loss: 0.2915 - acc: 0.8657\n",
      "Epoch 45/50\n",
      "70/70 [==============================] - 0s 105us/step - loss: 0.2902 - acc: 0.8657\n",
      "Epoch 46/50\n",
      "70/70 [==============================] - 0s 158us/step - loss: 0.2848 - acc: 0.8629\n",
      "Epoch 47/50\n",
      "70/70 [==============================] - 0s 140us/step - loss: 0.2806 - acc: 0.8600\n",
      "Epoch 48/50\n",
      "70/70 [==============================] - 0s 115us/step - loss: 0.2774 - acc: 0.8629\n",
      "Epoch 49/50\n",
      "70/70 [==============================] - 0s 123us/step - loss: 0.2756 - acc: 0.8686\n",
      "Epoch 50/50\n",
      "70/70 [==============================] - 0s 106us/step - loss: 0.2705 - acc: 0.8686\n",
      "30/30 [==============================] - 0s 2ms/step\n",
      "['loss', 'acc']\n",
      "[0.3017565608024597, 0.846666693687439]\n"
     ]
    }
   ],
   "source": [
    "model = Sequential()\n",
    "\n",
    "model.add(Dense(100, activation='relu', input_dim=302))\n",
    "model.add(Dense(30, activation='relu'))\n",
    "model.add(Dense(5, activation='softmax'))\n",
    "\n",
    "rms = keras.optimizers.Adam(lr=0.0005, beta_1=0.9, beta_2=0.999, epsilon=1e-08)\n",
    "model.compile(loss='binary_crossentropy',\n",
    "              optimizer=rms,\n",
    "              metrics=['accuracy'])\n",
    "\n",
    "model.fit(x_train, y_train,\n",
    "          epochs=50,\n",
    "          batch_size=20)\n",
    "score = model.evaluate(x_test, y_test, batch_size=10)\n",
    "print(model.metrics_names)\n",
    "print(score)"
   ]
  },
  {
   "cell_type": "code",
   "execution_count": null,
   "metadata": {},
   "outputs": [],
   "source": []
  }
 ],
 "metadata": {
  "kernelspec": {
   "display_name": "Python 3",
   "language": "python",
   "name": "python3"
  },
  "language_info": {
   "codemirror_mode": {
    "name": "ipython",
    "version": 3
   },
   "file_extension": ".py",
   "mimetype": "text/x-python",
   "name": "python",
   "nbconvert_exporter": "python",
   "pygments_lexer": "ipython3",
   "version": "3.6.6"
  }
 },
 "nbformat": 4,
 "nbformat_minor": 2
}
